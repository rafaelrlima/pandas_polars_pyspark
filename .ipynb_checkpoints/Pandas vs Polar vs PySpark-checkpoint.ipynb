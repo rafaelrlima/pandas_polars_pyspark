{
 "cells": [
  {
   "cell_type": "markdown",
   "id": "64a5f5d5",
   "metadata": {},
   "source": [
    "# Manipulando dados com Pandas, Polars e PySpark\n",
    "Escrito por Rafael Ribeiro de Lima. Linkedin: https://www.linkedin.com/in/rafarlima/\n",
    "\n",
    "O Objetivo desse hands-on é fazer uma breve introdução das bibliotecas Pandas, Polars e PySpark e passar os principais comandos de cada uma."
   ]
  },
  {
   "cell_type": "markdown",
   "id": "13563b28",
   "metadata": {},
   "source": [
    "## 0. Instalação / Configuração"
   ]
  },
  {
   "cell_type": "code",
   "execution_count": null,
   "id": "dddafb31",
   "metadata": {},
   "outputs": [],
   "source": [
    "# !pip install polars"
   ]
  },
  {
   "cell_type": "code",
   "execution_count": null,
   "id": "97d06317",
   "metadata": {},
   "outputs": [],
   "source": [
    "# !pip install pandas"
   ]
  },
  {
   "cell_type": "code",
   "execution_count": null,
   "id": "105683ff",
   "metadata": {},
   "outputs": [],
   "source": [
    "# !pip install pyspark"
   ]
  },
  {
   "cell_type": "code",
   "execution_count": null,
   "id": "e4548d3d",
   "metadata": {},
   "outputs": [],
   "source": [
    "# !pip install findspark"
   ]
  },
  {
   "cell_type": "markdown",
   "id": "3eaf5c26",
   "metadata": {},
   "source": [
    "## 1. Imports Necessários"
   ]
  },
  {
   "cell_type": "code",
   "execution_count": 2,
   "id": "68695e50",
   "metadata": {},
   "outputs": [],
   "source": [
    "import findspark\n",
    "findspark.init()\n",
    "\n",
    "import pandas as pd\n",
    "import polars as pl\n",
    "from pyspark.sql import SparkSession\n",
    "\n",
    "import numpy as np"
   ]
  },
  {
   "cell_type": "markdown",
   "id": "88768cf0",
   "metadata": {},
   "source": [
    "## 2. Inicialização Spark"
   ]
  },
  {
   "cell_type": "code",
   "execution_count": 3,
   "id": "70dfba2b",
   "metadata": {},
   "outputs": [
    {
     "name": "stderr",
     "output_type": "stream",
     "text": [
      "c:\\users\\rafael\\appdata\\local\\programs\\python\\python37\\lib\\site-packages\\pyspark\\context.py:317: FutureWarning: Python 3.7 support is deprecated in Spark 3.4.\n",
      "  warnings.warn(\"Python 3.7 support is deprecated in Spark 3.4.\", FutureWarning)\n"
     ]
    }
   ],
   "source": [
    "# Inicializando ums Sessão Spark\n",
    "spark = SparkSession.builder.appName(\"NomeDoAplicativo\").getOrCreate()"
   ]
  },
  {
   "cell_type": "markdown",
   "id": "16f75d90",
   "metadata": {},
   "source": [
    "## 3. Leitura CSV"
   ]
  },
  {
   "cell_type": "code",
   "execution_count": 4,
   "id": "2f7244c0",
   "metadata": {},
   "outputs": [
    {
     "name": "stdout",
     "output_type": "stream",
     "text": [
      "Wall time: 21.7 ms\n"
     ]
    }
   ],
   "source": [
    "%%time\n",
    "df_pd = pd.read_csv('./datasets/train.csv')"
   ]
  },
  {
   "cell_type": "code",
   "execution_count": 5,
   "id": "cf1cec46",
   "metadata": {},
   "outputs": [
    {
     "name": "stdout",
     "output_type": "stream",
     "text": [
      "Wall time: 123 ms\n"
     ]
    }
   ],
   "source": [
    "%%time\n",
    "df_pl = pl.read_csv('./datasets/train.csv')"
   ]
  },
  {
   "cell_type": "code",
   "execution_count": 6,
   "id": "b138c9df",
   "metadata": {},
   "outputs": [
    {
     "name": "stdout",
     "output_type": "stream",
     "text": [
      "Wall time: 8.05 s\n"
     ]
    }
   ],
   "source": [
    "%%time\n",
    "df_ps = spark.read.csv(\"./datasets/train.csv\", header=True, inferSchema=True)"
   ]
  },
  {
   "cell_type": "markdown",
   "id": "616dbc4f",
   "metadata": {},
   "source": [
    "## 4. Criando Dataframes"
   ]
  },
  {
   "cell_type": "code",
   "execution_count": 7,
   "id": "3c62624b",
   "metadata": {},
   "outputs": [],
   "source": [
    "data = [(\"Alice\", 28), (\"Bob\", None), (\"Charlie\", 31), (\"David\", 25)]\n",
    "columns = [\"Name\", \"Age\"]"
   ]
  },
  {
   "cell_type": "code",
   "execution_count": 8,
   "id": "4086f5cd",
   "metadata": {},
   "outputs": [],
   "source": [
    "df_pd = pd.DataFrame(data=data,columns=columns)"
   ]
  },
  {
   "cell_type": "code",
   "execution_count": 9,
   "id": "9ecae2c3",
   "metadata": {},
   "outputs": [],
   "source": [
    "df_pl = pl.DataFrame(data, schema=columns)"
   ]
  },
  {
   "cell_type": "code",
   "execution_count": 10,
   "id": "53920b96",
   "metadata": {},
   "outputs": [],
   "source": [
    "df_ps = spark.createDataFrame(data).toDF(*columns)"
   ]
  },
  {
   "cell_type": "markdown",
   "id": "66a1602b",
   "metadata": {},
   "source": [
    "## 5. Exibindo as 5 primeiras Linhas"
   ]
  },
  {
   "cell_type": "code",
   "execution_count": 11,
   "id": "398f94e1",
   "metadata": {},
   "outputs": [
    {
     "name": "stdout",
     "output_type": "stream",
     "text": [
      "Wall time: 0 ns\n"
     ]
    },
    {
     "data": {
      "text/html": [
       "<div>\n",
       "<style scoped>\n",
       "    .dataframe tbody tr th:only-of-type {\n",
       "        vertical-align: middle;\n",
       "    }\n",
       "\n",
       "    .dataframe tbody tr th {\n",
       "        vertical-align: top;\n",
       "    }\n",
       "\n",
       "    .dataframe thead th {\n",
       "        text-align: right;\n",
       "    }\n",
       "</style>\n",
       "<table border=\"1\" class=\"dataframe\">\n",
       "  <thead>\n",
       "    <tr style=\"text-align: right;\">\n",
       "      <th></th>\n",
       "      <th>Name</th>\n",
       "      <th>Age</th>\n",
       "    </tr>\n",
       "  </thead>\n",
       "  <tbody>\n",
       "    <tr>\n",
       "      <th>0</th>\n",
       "      <td>Alice</td>\n",
       "      <td>28.0</td>\n",
       "    </tr>\n",
       "    <tr>\n",
       "      <th>1</th>\n",
       "      <td>Bob</td>\n",
       "      <td>NaN</td>\n",
       "    </tr>\n",
       "    <tr>\n",
       "      <th>2</th>\n",
       "      <td>Charlie</td>\n",
       "      <td>31.0</td>\n",
       "    </tr>\n",
       "    <tr>\n",
       "      <th>3</th>\n",
       "      <td>David</td>\n",
       "      <td>25.0</td>\n",
       "    </tr>\n",
       "  </tbody>\n",
       "</table>\n",
       "</div>"
      ],
      "text/plain": [
       "      Name   Age\n",
       "0    Alice  28.0\n",
       "1      Bob   NaN\n",
       "2  Charlie  31.0\n",
       "3    David  25.0"
      ]
     },
     "execution_count": 11,
     "metadata": {},
     "output_type": "execute_result"
    }
   ],
   "source": [
    "%%time\n",
    "df_pd.head()"
   ]
  },
  {
   "cell_type": "code",
   "execution_count": 12,
   "id": "7d24e92c",
   "metadata": {},
   "outputs": [
    {
     "name": "stdout",
     "output_type": "stream",
     "text": [
      "Wall time: 0 ns\n"
     ]
    },
    {
     "data": {
      "text/html": [
       "<div><style>\n",
       ".dataframe > thead > tr > th,\n",
       ".dataframe > tbody > tr > td {\n",
       "  text-align: right;\n",
       "}\n",
       "</style>\n",
       "<small>shape: (4, 2)</small><table border=\"1\" class=\"dataframe\"><thead><tr><th>Name</th><th>Age</th></tr><tr><td>str</td><td>i64</td></tr></thead><tbody><tr><td>&quot;Alice&quot;</td><td>28</td></tr><tr><td>&quot;Bob&quot;</td><td>null</td></tr><tr><td>&quot;Charlie&quot;</td><td>31</td></tr><tr><td>&quot;David&quot;</td><td>25</td></tr></tbody></table></div>"
      ],
      "text/plain": [
       "shape: (4, 2)\n",
       "┌─────────┬──────┐\n",
       "│ Name    ┆ Age  │\n",
       "│ ---     ┆ ---  │\n",
       "│ str     ┆ i64  │\n",
       "╞═════════╪══════╡\n",
       "│ Alice   ┆ 28   │\n",
       "│ Bob     ┆ null │\n",
       "│ Charlie ┆ 31   │\n",
       "│ David   ┆ 25   │\n",
       "└─────────┴──────┘"
      ]
     },
     "execution_count": 12,
     "metadata": {},
     "output_type": "execute_result"
    }
   ],
   "source": [
    "%%time\n",
    "df_pl.head()"
   ]
  },
  {
   "cell_type": "code",
   "execution_count": 13,
   "id": "3870a376",
   "metadata": {},
   "outputs": [
    {
     "name": "stdout",
     "output_type": "stream",
     "text": [
      "+-------+----+\n",
      "|   Name| Age|\n",
      "+-------+----+\n",
      "|  Alice|  28|\n",
      "|    Bob|null|\n",
      "|Charlie|  31|\n",
      "|  David|  25|\n",
      "+-------+----+\n",
      "\n",
      "Wall time: 5.01 s\n"
     ]
    }
   ],
   "source": [
    "%%time\n",
    "df_ps.show()"
   ]
  },
  {
   "cell_type": "markdown",
   "id": "b3a18f07",
   "metadata": {},
   "source": [
    "## 6. Dimensões"
   ]
  },
  {
   "cell_type": "code",
   "execution_count": 14,
   "id": "79b1f10a",
   "metadata": {},
   "outputs": [
    {
     "data": {
      "text/plain": [
       "(4, 2)"
      ]
     },
     "execution_count": 14,
     "metadata": {},
     "output_type": "execute_result"
    }
   ],
   "source": [
    "df_pd.shape"
   ]
  },
  {
   "cell_type": "code",
   "execution_count": 15,
   "id": "29f87b4b",
   "metadata": {},
   "outputs": [
    {
     "data": {
      "text/plain": [
       "(4, 2)"
      ]
     },
     "execution_count": 15,
     "metadata": {},
     "output_type": "execute_result"
    }
   ],
   "source": [
    "df_pl.shape"
   ]
  },
  {
   "cell_type": "code",
   "execution_count": 16,
   "id": "3645725d",
   "metadata": {},
   "outputs": [
    {
     "name": "stdout",
     "output_type": "stream",
     "text": [
      "(4, 2)\n"
     ]
    }
   ],
   "source": [
    "print((df_ps.count(), len(df_ps.columns)))"
   ]
  },
  {
   "cell_type": "markdown",
   "id": "77b5e02f",
   "metadata": {},
   "source": [
    "## 7. Datatype"
   ]
  },
  {
   "cell_type": "code",
   "execution_count": 17,
   "id": "375b22b0",
   "metadata": {},
   "outputs": [
    {
     "data": {
      "text/plain": [
       "Name     object\n",
       "Age     float64\n",
       "dtype: object"
      ]
     },
     "execution_count": 17,
     "metadata": {},
     "output_type": "execute_result"
    }
   ],
   "source": [
    "df_pd.dtypes"
   ]
  },
  {
   "cell_type": "code",
   "execution_count": 18,
   "id": "064eea74",
   "metadata": {},
   "outputs": [
    {
     "data": {
      "text/plain": [
       "[Utf8, Int64]"
      ]
     },
     "execution_count": 18,
     "metadata": {},
     "output_type": "execute_result"
    }
   ],
   "source": [
    "df_pl.dtypes"
   ]
  },
  {
   "cell_type": "code",
   "execution_count": 19,
   "id": "251db81a",
   "metadata": {},
   "outputs": [
    {
     "data": {
      "text/plain": [
       "[('Name', 'string'), ('Age', 'bigint')]"
      ]
     },
     "execution_count": 19,
     "metadata": {},
     "output_type": "execute_result"
    }
   ],
   "source": [
    "df_ps.dtypes"
   ]
  },
  {
   "cell_type": "markdown",
   "id": "44c6df9b",
   "metadata": {},
   "source": [
    "## 8. Selecionando colunas(s)"
   ]
  },
  {
   "cell_type": "code",
   "execution_count": 20,
   "id": "6b48b361",
   "metadata": {},
   "outputs": [
    {
     "data": {
      "text/html": [
       "<div>\n",
       "<style scoped>\n",
       "    .dataframe tbody tr th:only-of-type {\n",
       "        vertical-align: middle;\n",
       "    }\n",
       "\n",
       "    .dataframe tbody tr th {\n",
       "        vertical-align: top;\n",
       "    }\n",
       "\n",
       "    .dataframe thead th {\n",
       "        text-align: right;\n",
       "    }\n",
       "</style>\n",
       "<table border=\"1\" class=\"dataframe\">\n",
       "  <thead>\n",
       "    <tr style=\"text-align: right;\">\n",
       "      <th></th>\n",
       "      <th>Name</th>\n",
       "    </tr>\n",
       "  </thead>\n",
       "  <tbody>\n",
       "    <tr>\n",
       "      <th>0</th>\n",
       "      <td>Alice</td>\n",
       "    </tr>\n",
       "    <tr>\n",
       "      <th>1</th>\n",
       "      <td>Bob</td>\n",
       "    </tr>\n",
       "    <tr>\n",
       "      <th>2</th>\n",
       "      <td>Charlie</td>\n",
       "    </tr>\n",
       "    <tr>\n",
       "      <th>3</th>\n",
       "      <td>David</td>\n",
       "    </tr>\n",
       "  </tbody>\n",
       "</table>\n",
       "</div>"
      ],
      "text/plain": [
       "      Name\n",
       "0    Alice\n",
       "1      Bob\n",
       "2  Charlie\n",
       "3    David"
      ]
     },
     "execution_count": 20,
     "metadata": {},
     "output_type": "execute_result"
    }
   ],
   "source": [
    "df_pd[['Name']]"
   ]
  },
  {
   "cell_type": "code",
   "execution_count": 21,
   "id": "1f0bbb2e",
   "metadata": {},
   "outputs": [
    {
     "data": {
      "text/html": [
       "<div><style>\n",
       ".dataframe > thead > tr > th,\n",
       ".dataframe > tbody > tr > td {\n",
       "  text-align: right;\n",
       "}\n",
       "</style>\n",
       "<small>shape: (4, 1)</small><table border=\"1\" class=\"dataframe\"><thead><tr><th>Name</th></tr><tr><td>str</td></tr></thead><tbody><tr><td>&quot;Alice&quot;</td></tr><tr><td>&quot;Bob&quot;</td></tr><tr><td>&quot;Charlie&quot;</td></tr><tr><td>&quot;David&quot;</td></tr></tbody></table></div>"
      ],
      "text/plain": [
       "shape: (4, 1)\n",
       "┌─────────┐\n",
       "│ Name    │\n",
       "│ ---     │\n",
       "│ str     │\n",
       "╞═════════╡\n",
       "│ Alice   │\n",
       "│ Bob     │\n",
       "│ Charlie │\n",
       "│ David   │\n",
       "└─────────┘"
      ]
     },
     "execution_count": 21,
     "metadata": {},
     "output_type": "execute_result"
    }
   ],
   "source": [
    "df_pl[['Name']]"
   ]
  },
  {
   "cell_type": "code",
   "execution_count": 22,
   "id": "ad184551",
   "metadata": {},
   "outputs": [
    {
     "name": "stdout",
     "output_type": "stream",
     "text": [
      "+-------+\n",
      "|   Name|\n",
      "+-------+\n",
      "|  Alice|\n",
      "|    Bob|\n",
      "|Charlie|\n",
      "|  David|\n",
      "+-------+\n",
      "\n"
     ]
    }
   ],
   "source": [
    "df_ps.select(\"Name\").show()"
   ]
  },
  {
   "cell_type": "markdown",
   "id": "66f2f102",
   "metadata": {},
   "source": [
    "## 9. Filtrando Dados"
   ]
  },
  {
   "cell_type": "code",
   "execution_count": 23,
   "id": "dd41b034",
   "metadata": {},
   "outputs": [
    {
     "data": {
      "text/html": [
       "<div>\n",
       "<style scoped>\n",
       "    .dataframe tbody tr th:only-of-type {\n",
       "        vertical-align: middle;\n",
       "    }\n",
       "\n",
       "    .dataframe tbody tr th {\n",
       "        vertical-align: top;\n",
       "    }\n",
       "\n",
       "    .dataframe thead th {\n",
       "        text-align: right;\n",
       "    }\n",
       "</style>\n",
       "<table border=\"1\" class=\"dataframe\">\n",
       "  <thead>\n",
       "    <tr style=\"text-align: right;\">\n",
       "      <th></th>\n",
       "      <th>Name</th>\n",
       "      <th>Age</th>\n",
       "    </tr>\n",
       "  </thead>\n",
       "  <tbody>\n",
       "    <tr>\n",
       "      <th>0</th>\n",
       "      <td>Alice</td>\n",
       "      <td>28.0</td>\n",
       "    </tr>\n",
       "    <tr>\n",
       "      <th>2</th>\n",
       "      <td>Charlie</td>\n",
       "      <td>31.0</td>\n",
       "    </tr>\n",
       "    <tr>\n",
       "      <th>3</th>\n",
       "      <td>David</td>\n",
       "      <td>25.0</td>\n",
       "    </tr>\n",
       "  </tbody>\n",
       "</table>\n",
       "</div>"
      ],
      "text/plain": [
       "      Name   Age\n",
       "0    Alice  28.0\n",
       "2  Charlie  31.0\n",
       "3    David  25.0"
      ]
     },
     "execution_count": 23,
     "metadata": {},
     "output_type": "execute_result"
    }
   ],
   "source": [
    "df_pd[df_pd.Age > 22]"
   ]
  },
  {
   "cell_type": "code",
   "execution_count": 24,
   "id": "68d04b7e",
   "metadata": {},
   "outputs": [
    {
     "data": {
      "text/html": [
       "<div><style>\n",
       ".dataframe > thead > tr > th,\n",
       ".dataframe > tbody > tr > td {\n",
       "  text-align: right;\n",
       "}\n",
       "</style>\n",
       "<small>shape: (3, 2)</small><table border=\"1\" class=\"dataframe\"><thead><tr><th>Name</th><th>Age</th></tr><tr><td>str</td><td>i64</td></tr></thead><tbody><tr><td>&quot;Alice&quot;</td><td>28</td></tr><tr><td>&quot;Charlie&quot;</td><td>31</td></tr><tr><td>&quot;David&quot;</td><td>25</td></tr></tbody></table></div>"
      ],
      "text/plain": [
       "shape: (3, 2)\n",
       "┌─────────┬─────┐\n",
       "│ Name    ┆ Age │\n",
       "│ ---     ┆ --- │\n",
       "│ str     ┆ i64 │\n",
       "╞═════════╪═════╡\n",
       "│ Alice   ┆ 28  │\n",
       "│ Charlie ┆ 31  │\n",
       "│ David   ┆ 25  │\n",
       "└─────────┴─────┘"
      ]
     },
     "execution_count": 24,
     "metadata": {},
     "output_type": "execute_result"
    }
   ],
   "source": [
    "df_pl.filter(pl.col(\"Age\") >22)"
   ]
  },
  {
   "cell_type": "code",
   "execution_count": 25,
   "id": "2918cbb7",
   "metadata": {},
   "outputs": [
    {
     "name": "stdout",
     "output_type": "stream",
     "text": [
      "+-------+---+\n",
      "|   Name|Age|\n",
      "+-------+---+\n",
      "|  Alice| 28|\n",
      "|Charlie| 31|\n",
      "|  David| 25|\n",
      "+-------+---+\n",
      "\n"
     ]
    }
   ],
   "source": [
    "df_ps.filter(df_ps.Age > 22).show()"
   ]
  },
  {
   "cell_type": "markdown",
   "id": "1ef331b3",
   "metadata": {},
   "source": [
    "## 10. Ordenando"
   ]
  },
  {
   "cell_type": "code",
   "execution_count": 26,
   "id": "6530006b",
   "metadata": {},
   "outputs": [
    {
     "data": {
      "text/html": [
       "<div>\n",
       "<style scoped>\n",
       "    .dataframe tbody tr th:only-of-type {\n",
       "        vertical-align: middle;\n",
       "    }\n",
       "\n",
       "    .dataframe tbody tr th {\n",
       "        vertical-align: top;\n",
       "    }\n",
       "\n",
       "    .dataframe thead th {\n",
       "        text-align: right;\n",
       "    }\n",
       "</style>\n",
       "<table border=\"1\" class=\"dataframe\">\n",
       "  <thead>\n",
       "    <tr style=\"text-align: right;\">\n",
       "      <th></th>\n",
       "      <th>Name</th>\n",
       "      <th>Age</th>\n",
       "    </tr>\n",
       "  </thead>\n",
       "  <tbody>\n",
       "    <tr>\n",
       "      <th>3</th>\n",
       "      <td>David</td>\n",
       "      <td>25.0</td>\n",
       "    </tr>\n",
       "    <tr>\n",
       "      <th>0</th>\n",
       "      <td>Alice</td>\n",
       "      <td>28.0</td>\n",
       "    </tr>\n",
       "    <tr>\n",
       "      <th>2</th>\n",
       "      <td>Charlie</td>\n",
       "      <td>31.0</td>\n",
       "    </tr>\n",
       "    <tr>\n",
       "      <th>1</th>\n",
       "      <td>Bob</td>\n",
       "      <td>NaN</td>\n",
       "    </tr>\n",
       "  </tbody>\n",
       "</table>\n",
       "</div>"
      ],
      "text/plain": [
       "      Name   Age\n",
       "3    David  25.0\n",
       "0    Alice  28.0\n",
       "2  Charlie  31.0\n",
       "1      Bob   NaN"
      ]
     },
     "execution_count": 26,
     "metadata": {},
     "output_type": "execute_result"
    }
   ],
   "source": [
    "df_pd.sort_values('Age')"
   ]
  },
  {
   "cell_type": "code",
   "execution_count": 27,
   "id": "331a2b3c",
   "metadata": {},
   "outputs": [
    {
     "data": {
      "text/html": [
       "<div><style>\n",
       ".dataframe > thead > tr > th,\n",
       ".dataframe > tbody > tr > td {\n",
       "  text-align: right;\n",
       "}\n",
       "</style>\n",
       "<small>shape: (4, 2)</small><table border=\"1\" class=\"dataframe\"><thead><tr><th>Name</th><th>Age</th></tr><tr><td>str</td><td>i64</td></tr></thead><tbody><tr><td>&quot;Bob&quot;</td><td>null</td></tr><tr><td>&quot;David&quot;</td><td>25</td></tr><tr><td>&quot;Alice&quot;</td><td>28</td></tr><tr><td>&quot;Charlie&quot;</td><td>31</td></tr></tbody></table></div>"
      ],
      "text/plain": [
       "shape: (4, 2)\n",
       "┌─────────┬──────┐\n",
       "│ Name    ┆ Age  │\n",
       "│ ---     ┆ ---  │\n",
       "│ str     ┆ i64  │\n",
       "╞═════════╪══════╡\n",
       "│ Bob     ┆ null │\n",
       "│ David   ┆ 25   │\n",
       "│ Alice   ┆ 28   │\n",
       "│ Charlie ┆ 31   │\n",
       "└─────────┴──────┘"
      ]
     },
     "execution_count": 27,
     "metadata": {},
     "output_type": "execute_result"
    }
   ],
   "source": [
    "df_pl.sort('Age')"
   ]
  },
  {
   "cell_type": "code",
   "execution_count": 28,
   "id": "0432058c",
   "metadata": {},
   "outputs": [
    {
     "name": "stdout",
     "output_type": "stream",
     "text": [
      "+-------+----+\n",
      "|   Name| Age|\n",
      "+-------+----+\n",
      "|    Bob|null|\n",
      "|  David|  25|\n",
      "|  Alice|  28|\n",
      "|Charlie|  31|\n",
      "+-------+----+\n",
      "\n"
     ]
    }
   ],
   "source": [
    "df_ps.orderBy(\"Age\").show()"
   ]
  },
  {
   "cell_type": "markdown",
   "id": "e9533756",
   "metadata": {},
   "source": [
    "## 11. Preenchendo valores nulos"
   ]
  },
  {
   "cell_type": "code",
   "execution_count": 29,
   "id": "d041371e",
   "metadata": {},
   "outputs": [
    {
     "data": {
      "text/html": [
       "<div>\n",
       "<style scoped>\n",
       "    .dataframe tbody tr th:only-of-type {\n",
       "        vertical-align: middle;\n",
       "    }\n",
       "\n",
       "    .dataframe tbody tr th {\n",
       "        vertical-align: top;\n",
       "    }\n",
       "\n",
       "    .dataframe thead th {\n",
       "        text-align: right;\n",
       "    }\n",
       "</style>\n",
       "<table border=\"1\" class=\"dataframe\">\n",
       "  <thead>\n",
       "    <tr style=\"text-align: right;\">\n",
       "      <th></th>\n",
       "      <th>Name</th>\n",
       "      <th>Age</th>\n",
       "    </tr>\n",
       "  </thead>\n",
       "  <tbody>\n",
       "    <tr>\n",
       "      <th>0</th>\n",
       "      <td>Alice</td>\n",
       "      <td>28.0</td>\n",
       "    </tr>\n",
       "    <tr>\n",
       "      <th>1</th>\n",
       "      <td>Bob</td>\n",
       "      <td>22.0</td>\n",
       "    </tr>\n",
       "    <tr>\n",
       "      <th>2</th>\n",
       "      <td>Charlie</td>\n",
       "      <td>31.0</td>\n",
       "    </tr>\n",
       "    <tr>\n",
       "      <th>3</th>\n",
       "      <td>David</td>\n",
       "      <td>25.0</td>\n",
       "    </tr>\n",
       "  </tbody>\n",
       "</table>\n",
       "</div>"
      ],
      "text/plain": [
       "      Name   Age\n",
       "0    Alice  28.0\n",
       "1      Bob  22.0\n",
       "2  Charlie  31.0\n",
       "3    David  25.0"
      ]
     },
     "execution_count": 29,
     "metadata": {},
     "output_type": "execute_result"
    }
   ],
   "source": [
    "df_pd['Age'] = df_pd.Age.fillna(22)\n",
    "df_pd.head()"
   ]
  },
  {
   "cell_type": "code",
   "execution_count": 30,
   "id": "ecff1bcc",
   "metadata": {},
   "outputs": [
    {
     "data": {
      "text/html": [
       "<div><style>\n",
       ".dataframe > thead > tr > th,\n",
       ".dataframe > tbody > tr > td {\n",
       "  text-align: right;\n",
       "}\n",
       "</style>\n",
       "<small>shape: (4, 2)</small><table border=\"1\" class=\"dataframe\"><thead><tr><th>Name</th><th>Age</th></tr><tr><td>str</td><td>i64</td></tr></thead><tbody><tr><td>&quot;Alice&quot;</td><td>28</td></tr><tr><td>&quot;Bob&quot;</td><td>22</td></tr><tr><td>&quot;Charlie&quot;</td><td>31</td></tr><tr><td>&quot;David&quot;</td><td>25</td></tr></tbody></table></div>"
      ],
      "text/plain": [
       "shape: (4, 2)\n",
       "┌─────────┬─────┐\n",
       "│ Name    ┆ Age │\n",
       "│ ---     ┆ --- │\n",
       "│ str     ┆ i64 │\n",
       "╞═════════╪═════╡\n",
       "│ Alice   ┆ 28  │\n",
       "│ Bob     ┆ 22  │\n",
       "│ Charlie ┆ 31  │\n",
       "│ David   ┆ 25  │\n",
       "└─────────┴─────┘"
      ]
     },
     "execution_count": 30,
     "metadata": {},
     "output_type": "execute_result"
    }
   ],
   "source": [
    "df_pl = df_pl.with_columns(df_pl['Age'].fill_null(22))\n",
    "df_pl.head()"
   ]
  },
  {
   "cell_type": "code",
   "execution_count": 31,
   "id": "5c38b7a7",
   "metadata": {},
   "outputs": [
    {
     "name": "stdout",
     "output_type": "stream",
     "text": [
      "+-------+---+\n",
      "|   Name|Age|\n",
      "+-------+---+\n",
      "|  Alice| 28|\n",
      "|    Bob| 22|\n",
      "|Charlie| 31|\n",
      "|  David| 25|\n",
      "+-------+---+\n",
      "\n"
     ]
    }
   ],
   "source": [
    "from pyspark.sql.functions import when\n",
    "df_ps = df_ps.withColumn(\"Age\", when(df_ps[\"Age\"].isNull(), 22).otherwise(df_ps[\"Age\"]))\n",
    "df_ps.show()"
   ]
  },
  {
   "cell_type": "markdown",
   "id": "324bfedd",
   "metadata": {},
   "source": [
    "## 12. Concatenação"
   ]
  },
  {
   "cell_type": "code",
   "execution_count": 32,
   "id": "eeff5074",
   "metadata": {},
   "outputs": [],
   "source": [
    "data = [(\"Ana\", 40)]\n",
    "columns = [\"Name\", \"Age\"]\n",
    "df_pd1 = pd.DataFrame(data=data,columns=columns)\n",
    "df_pl1 = pl.DataFrame(data, schema=columns)\n",
    "df_ps1 = spark.createDataFrame(data).toDF(*columns)"
   ]
  },
  {
   "cell_type": "code",
   "execution_count": 33,
   "id": "2fcbd409",
   "metadata": {},
   "outputs": [
    {
     "data": {
      "text/html": [
       "<div>\n",
       "<style scoped>\n",
       "    .dataframe tbody tr th:only-of-type {\n",
       "        vertical-align: middle;\n",
       "    }\n",
       "\n",
       "    .dataframe tbody tr th {\n",
       "        vertical-align: top;\n",
       "    }\n",
       "\n",
       "    .dataframe thead th {\n",
       "        text-align: right;\n",
       "    }\n",
       "</style>\n",
       "<table border=\"1\" class=\"dataframe\">\n",
       "  <thead>\n",
       "    <tr style=\"text-align: right;\">\n",
       "      <th></th>\n",
       "      <th>Name</th>\n",
       "      <th>Age</th>\n",
       "    </tr>\n",
       "  </thead>\n",
       "  <tbody>\n",
       "    <tr>\n",
       "      <th>0</th>\n",
       "      <td>Alice</td>\n",
       "      <td>28.0</td>\n",
       "    </tr>\n",
       "    <tr>\n",
       "      <th>1</th>\n",
       "      <td>Bob</td>\n",
       "      <td>22.0</td>\n",
       "    </tr>\n",
       "    <tr>\n",
       "      <th>2</th>\n",
       "      <td>Charlie</td>\n",
       "      <td>31.0</td>\n",
       "    </tr>\n",
       "    <tr>\n",
       "      <th>3</th>\n",
       "      <td>David</td>\n",
       "      <td>25.0</td>\n",
       "    </tr>\n",
       "    <tr>\n",
       "      <th>0</th>\n",
       "      <td>Ana</td>\n",
       "      <td>40.0</td>\n",
       "    </tr>\n",
       "  </tbody>\n",
       "</table>\n",
       "</div>"
      ],
      "text/plain": [
       "      Name   Age\n",
       "0    Alice  28.0\n",
       "1      Bob  22.0\n",
       "2  Charlie  31.0\n",
       "3    David  25.0\n",
       "0      Ana  40.0"
      ]
     },
     "execution_count": 33,
     "metadata": {},
     "output_type": "execute_result"
    }
   ],
   "source": [
    "df_pd = pd.concat([df_pd,df_pd1])\n",
    "df_pd.head()"
   ]
  },
  {
   "cell_type": "code",
   "execution_count": 34,
   "id": "1fe36029",
   "metadata": {},
   "outputs": [
    {
     "data": {
      "text/html": [
       "<div><style>\n",
       ".dataframe > thead > tr > th,\n",
       ".dataframe > tbody > tr > td {\n",
       "  text-align: right;\n",
       "}\n",
       "</style>\n",
       "<small>shape: (5, 2)</small><table border=\"1\" class=\"dataframe\"><thead><tr><th>Name</th><th>Age</th></tr><tr><td>str</td><td>i64</td></tr></thead><tbody><tr><td>&quot;Alice&quot;</td><td>28</td></tr><tr><td>&quot;Bob&quot;</td><td>22</td></tr><tr><td>&quot;Charlie&quot;</td><td>31</td></tr><tr><td>&quot;David&quot;</td><td>25</td></tr><tr><td>&quot;Ana&quot;</td><td>40</td></tr></tbody></table></div>"
      ],
      "text/plain": [
       "shape: (5, 2)\n",
       "┌─────────┬─────┐\n",
       "│ Name    ┆ Age │\n",
       "│ ---     ┆ --- │\n",
       "│ str     ┆ i64 │\n",
       "╞═════════╪═════╡\n",
       "│ Alice   ┆ 28  │\n",
       "│ Bob     ┆ 22  │\n",
       "│ Charlie ┆ 31  │\n",
       "│ David   ┆ 25  │\n",
       "│ Ana     ┆ 40  │\n",
       "└─────────┴─────┘"
      ]
     },
     "execution_count": 34,
     "metadata": {},
     "output_type": "execute_result"
    }
   ],
   "source": [
    "df_pl = pl.concat([df_pl,df_pl1])\n",
    "df_pl.head()"
   ]
  },
  {
   "cell_type": "code",
   "execution_count": 35,
   "id": "e00d2c3f",
   "metadata": {},
   "outputs": [
    {
     "name": "stdout",
     "output_type": "stream",
     "text": [
      "+-------+---+\n",
      "|   Name|Age|\n",
      "+-------+---+\n",
      "|  Alice| 28|\n",
      "|    Bob| 22|\n",
      "|Charlie| 31|\n",
      "|  David| 25|\n",
      "|    Ana| 40|\n",
      "+-------+---+\n",
      "\n"
     ]
    }
   ],
   "source": [
    "df_ps = df_ps.union(df_ps1)\n",
    "df_ps.show()"
   ]
  },
  {
   "cell_type": "markdown",
   "id": "f882bbbb",
   "metadata": {},
   "source": [
    "## 13. Inner Join"
   ]
  },
  {
   "cell_type": "code",
   "execution_count": 36,
   "id": "da89e2d5",
   "metadata": {},
   "outputs": [],
   "source": [
    "data = [(\"Ana\", \"F\"),(\"Alice\", \"F\"),(\"Bob\", \"M\"),(\"Charlie\", \"M\"),(\"David\", \"M\")]\n",
    "columns = [\"Name\", \"Gender\"]\n",
    "df_pd2 = pd.DataFrame(data=data,columns=columns)\n",
    "df_pl2 = pl.DataFrame(data, schema=columns)\n",
    "df_ps2 = spark.createDataFrame(data).toDF(*columns)"
   ]
  },
  {
   "cell_type": "code",
   "execution_count": 37,
   "id": "c40a4570",
   "metadata": {},
   "outputs": [
    {
     "data": {
      "text/html": [
       "<div>\n",
       "<style scoped>\n",
       "    .dataframe tbody tr th:only-of-type {\n",
       "        vertical-align: middle;\n",
       "    }\n",
       "\n",
       "    .dataframe tbody tr th {\n",
       "        vertical-align: top;\n",
       "    }\n",
       "\n",
       "    .dataframe thead th {\n",
       "        text-align: right;\n",
       "    }\n",
       "</style>\n",
       "<table border=\"1\" class=\"dataframe\">\n",
       "  <thead>\n",
       "    <tr style=\"text-align: right;\">\n",
       "      <th></th>\n",
       "      <th>Name</th>\n",
       "      <th>Age</th>\n",
       "      <th>Gender</th>\n",
       "    </tr>\n",
       "  </thead>\n",
       "  <tbody>\n",
       "    <tr>\n",
       "      <th>0</th>\n",
       "      <td>Alice</td>\n",
       "      <td>28.0</td>\n",
       "      <td>F</td>\n",
       "    </tr>\n",
       "    <tr>\n",
       "      <th>1</th>\n",
       "      <td>Bob</td>\n",
       "      <td>22.0</td>\n",
       "      <td>M</td>\n",
       "    </tr>\n",
       "    <tr>\n",
       "      <th>2</th>\n",
       "      <td>Charlie</td>\n",
       "      <td>31.0</td>\n",
       "      <td>M</td>\n",
       "    </tr>\n",
       "    <tr>\n",
       "      <th>3</th>\n",
       "      <td>David</td>\n",
       "      <td>25.0</td>\n",
       "      <td>M</td>\n",
       "    </tr>\n",
       "    <tr>\n",
       "      <th>4</th>\n",
       "      <td>Ana</td>\n",
       "      <td>40.0</td>\n",
       "      <td>F</td>\n",
       "    </tr>\n",
       "  </tbody>\n",
       "</table>\n",
       "</div>"
      ],
      "text/plain": [
       "      Name   Age Gender\n",
       "0    Alice  28.0      F\n",
       "1      Bob  22.0      M\n",
       "2  Charlie  31.0      M\n",
       "3    David  25.0      M\n",
       "4      Ana  40.0      F"
      ]
     },
     "execution_count": 37,
     "metadata": {},
     "output_type": "execute_result"
    }
   ],
   "source": [
    "df_pd = pd.merge(df_pd,df_pd2, on='Name', how='inner')\n",
    "df_pd.head()"
   ]
  },
  {
   "cell_type": "code",
   "execution_count": 38,
   "id": "3c778d96",
   "metadata": {},
   "outputs": [
    {
     "data": {
      "text/html": [
       "<div><style>\n",
       ".dataframe > thead > tr > th,\n",
       ".dataframe > tbody > tr > td {\n",
       "  text-align: right;\n",
       "}\n",
       "</style>\n",
       "<small>shape: (5, 3)</small><table border=\"1\" class=\"dataframe\"><thead><tr><th>Name</th><th>Age</th><th>Gender</th></tr><tr><td>str</td><td>i64</td><td>str</td></tr></thead><tbody><tr><td>&quot;Ana&quot;</td><td>40</td><td>&quot;F&quot;</td></tr><tr><td>&quot;Alice&quot;</td><td>28</td><td>&quot;F&quot;</td></tr><tr><td>&quot;Bob&quot;</td><td>22</td><td>&quot;M&quot;</td></tr><tr><td>&quot;Charlie&quot;</td><td>31</td><td>&quot;M&quot;</td></tr><tr><td>&quot;David&quot;</td><td>25</td><td>&quot;M&quot;</td></tr></tbody></table></div>"
      ],
      "text/plain": [
       "shape: (5, 3)\n",
       "┌─────────┬─────┬────────┐\n",
       "│ Name    ┆ Age ┆ Gender │\n",
       "│ ---     ┆ --- ┆ ---    │\n",
       "│ str     ┆ i64 ┆ str    │\n",
       "╞═════════╪═════╪════════╡\n",
       "│ Ana     ┆ 40  ┆ F      │\n",
       "│ Alice   ┆ 28  ┆ F      │\n",
       "│ Bob     ┆ 22  ┆ M      │\n",
       "│ Charlie ┆ 31  ┆ M      │\n",
       "│ David   ┆ 25  ┆ M      │\n",
       "└─────────┴─────┴────────┘"
      ]
     },
     "execution_count": 38,
     "metadata": {},
     "output_type": "execute_result"
    }
   ],
   "source": [
    "df_pl = df_pl.join(df_pl2, on='Name', how='inner')\n",
    "df_pl.head()"
   ]
  },
  {
   "cell_type": "code",
   "execution_count": 39,
   "id": "13e381c6",
   "metadata": {},
   "outputs": [
    {
     "name": "stdout",
     "output_type": "stream",
     "text": [
      "+-------+---+------+\n",
      "|   Name|Age|Gender|\n",
      "+-------+---+------+\n",
      "|  Alice| 28|     F|\n",
      "|    Ana| 40|     F|\n",
      "|    Bob| 22|     M|\n",
      "|Charlie| 31|     M|\n",
      "|  David| 25|     M|\n",
      "+-------+---+------+\n",
      "\n"
     ]
    }
   ],
   "source": [
    "df_ps = df_ps.join(df_ps2, on='Name', how='inner')\n",
    "df_ps.show()"
   ]
  },
  {
   "cell_type": "markdown",
   "id": "181453e0",
   "metadata": {},
   "source": [
    "## 14. Agrupamento"
   ]
  },
  {
   "cell_type": "code",
   "execution_count": 40,
   "id": "75f621f6",
   "metadata": {},
   "outputs": [
    {
     "data": {
      "text/html": [
       "<div>\n",
       "<style scoped>\n",
       "    .dataframe tbody tr th:only-of-type {\n",
       "        vertical-align: middle;\n",
       "    }\n",
       "\n",
       "    .dataframe tbody tr th {\n",
       "        vertical-align: top;\n",
       "    }\n",
       "\n",
       "    .dataframe thead tr th {\n",
       "        text-align: left;\n",
       "    }\n",
       "\n",
       "    .dataframe thead tr:last-of-type th {\n",
       "        text-align: right;\n",
       "    }\n",
       "</style>\n",
       "<table border=\"1\" class=\"dataframe\">\n",
       "  <thead>\n",
       "    <tr>\n",
       "      <th></th>\n",
       "      <th colspan=\"4\" halign=\"left\">Age</th>\n",
       "    </tr>\n",
       "    <tr>\n",
       "      <th></th>\n",
       "      <th>min</th>\n",
       "      <th>max</th>\n",
       "      <th>mean</th>\n",
       "      <th>median</th>\n",
       "    </tr>\n",
       "    <tr>\n",
       "      <th>Gender</th>\n",
       "      <th></th>\n",
       "      <th></th>\n",
       "      <th></th>\n",
       "      <th></th>\n",
       "    </tr>\n",
       "  </thead>\n",
       "  <tbody>\n",
       "    <tr>\n",
       "      <th>F</th>\n",
       "      <td>28.0</td>\n",
       "      <td>40.0</td>\n",
       "      <td>34.0</td>\n",
       "      <td>34.0</td>\n",
       "    </tr>\n",
       "    <tr>\n",
       "      <th>M</th>\n",
       "      <td>22.0</td>\n",
       "      <td>31.0</td>\n",
       "      <td>26.0</td>\n",
       "      <td>25.0</td>\n",
       "    </tr>\n",
       "  </tbody>\n",
       "</table>\n",
       "</div>"
      ],
      "text/plain": [
       "         Age                   \n",
       "         min   max  mean median\n",
       "Gender                         \n",
       "F       28.0  40.0  34.0   34.0\n",
       "M       22.0  31.0  26.0   25.0"
      ]
     },
     "execution_count": 40,
     "metadata": {},
     "output_type": "execute_result"
    }
   ],
   "source": [
    "df_pd.groupby('Gender').agg(['min','max','mean','median'])"
   ]
  },
  {
   "cell_type": "code",
   "execution_count": 41,
   "id": "b5ed60ca",
   "metadata": {
    "scrolled": true
   },
   "outputs": [
    {
     "data": {
      "text/html": [
       "<div><style>\n",
       ".dataframe > thead > tr > th,\n",
       ".dataframe > tbody > tr > td {\n",
       "  text-align: right;\n",
       "}\n",
       "</style>\n",
       "<small>shape: (2, 5)</small><table border=\"1\" class=\"dataframe\"><thead><tr><th>Gender</th><th>min_age</th><th>max_age</th><th>mean_age</th><th>median_age</th></tr><tr><td>str</td><td>i64</td><td>i64</td><td>f64</td><td>f64</td></tr></thead><tbody><tr><td>&quot;M&quot;</td><td>22</td><td>31</td><td>26.0</td><td>25.0</td></tr><tr><td>&quot;F&quot;</td><td>28</td><td>40</td><td>34.0</td><td>34.0</td></tr></tbody></table></div>"
      ],
      "text/plain": [
       "shape: (2, 5)\n",
       "┌────────┬─────────┬─────────┬──────────┬────────────┐\n",
       "│ Gender ┆ min_age ┆ max_age ┆ mean_age ┆ median_age │\n",
       "│ ---    ┆ ---     ┆ ---     ┆ ---      ┆ ---        │\n",
       "│ str    ┆ i64     ┆ i64     ┆ f64      ┆ f64        │\n",
       "╞════════╪═════════╪═════════╪══════════╪════════════╡\n",
       "│ M      ┆ 22      ┆ 31      ┆ 26.0     ┆ 25.0       │\n",
       "│ F      ┆ 28      ┆ 40      ┆ 34.0     ┆ 34.0       │\n",
       "└────────┴─────────┴─────────┴──────────┴────────────┘"
      ]
     },
     "execution_count": 41,
     "metadata": {},
     "output_type": "execute_result"
    }
   ],
   "source": [
    "df_pl.groupby('Gender').agg([\n",
    "    pl.col(\"Age\").min().alias(\"min_age\"),\n",
    "    pl.col(\"Age\").max().alias(\"max_age\"),\n",
    "    pl.col(\"Age\").mean().alias(\"mean_age\"),\n",
    "    pl.col(\"Age\").median().alias(\"median_age\")\n",
    "])"
   ]
  },
  {
   "cell_type": "code",
   "execution_count": 42,
   "id": "cecc0914",
   "metadata": {},
   "outputs": [
    {
     "name": "stdout",
     "output_type": "stream",
     "text": [
      "+------+-------+-------+--------+----------+\n",
      "|Gender|min_age|max_age|mean_age|median_age|\n",
      "+------+-------+-------+--------+----------+\n",
      "|     F|     28|     40|    34.0|      34.0|\n",
      "|     M|     22|     31|    26.0|      25.0|\n",
      "+------+-------+-------+--------+----------+\n",
      "\n"
     ]
    }
   ],
   "source": [
    "from pyspark.sql.functions import min, max, mean, median\n",
    "df_ps.groupBy('Gender').agg(\n",
    "    min('Age').alias('min_age'),\n",
    "    max('Age').alias('max_age'),\n",
    "    mean('Age').alias('mean_age'),\n",
    "    median('Age').alias('median_age')\n",
    ").show()"
   ]
  },
  {
   "cell_type": "markdown",
   "id": "18478a5d",
   "metadata": {},
   "source": [
    "## 15. Valores Únicos"
   ]
  },
  {
   "cell_type": "code",
   "execution_count": 43,
   "id": "43dfd679",
   "metadata": {},
   "outputs": [
    {
     "data": {
      "text/plain": [
       "array(['Alice', 'Bob', 'Charlie', 'David', 'Ana'], dtype=object)"
      ]
     },
     "execution_count": 43,
     "metadata": {},
     "output_type": "execute_result"
    }
   ],
   "source": [
    "df_pd.Name.unique()"
   ]
  },
  {
   "cell_type": "code",
   "execution_count": 44,
   "id": "4ee77bb2",
   "metadata": {},
   "outputs": [
    {
     "data": {
      "text/html": [
       "<div><style>\n",
       ".dataframe > thead > tr > th,\n",
       ".dataframe > tbody > tr > td {\n",
       "  text-align: right;\n",
       "}\n",
       "</style>\n",
       "<small>shape: (5,)</small><table border=\"1\" class=\"dataframe\"><thead><tr><th>Name</th></tr><tr><td>str</td></tr></thead><tbody><tr><td>&quot;Bob&quot;</td></tr><tr><td>&quot;Charlie&quot;</td></tr><tr><td>&quot;Ana&quot;</td></tr><tr><td>&quot;Alice&quot;</td></tr><tr><td>&quot;David&quot;</td></tr></tbody></table></div>"
      ],
      "text/plain": [
       "shape: (5,)\n",
       "Series: 'Name' [str]\n",
       "[\n",
       "\t\"Bob\"\n",
       "\t\"Charlie\"\n",
       "\t\"Ana\"\n",
       "\t\"Alice\"\n",
       "\t\"David\"\n",
       "]"
      ]
     },
     "execution_count": 44,
     "metadata": {},
     "output_type": "execute_result"
    }
   ],
   "source": [
    "df_pl['Name'].unique()"
   ]
  },
  {
   "cell_type": "code",
   "execution_count": 45,
   "id": "6fc8f868",
   "metadata": {},
   "outputs": [
    {
     "name": "stdout",
     "output_type": "stream",
     "text": [
      "+-------+\n",
      "|   Name|\n",
      "+-------+\n",
      "|  Alice|\n",
      "|    Ana|\n",
      "|    Bob|\n",
      "|Charlie|\n",
      "|  David|\n",
      "+-------+\n",
      "\n"
     ]
    }
   ],
   "source": [
    "df_ps.select(\"Name\").distinct().show()"
   ]
  },
  {
   "cell_type": "markdown",
   "id": "b4bf1354",
   "metadata": {},
   "source": [
    "## 16. Renomeando colunas"
   ]
  },
  {
   "cell_type": "code",
   "execution_count": 46,
   "id": "a0892122",
   "metadata": {},
   "outputs": [
    {
     "data": {
      "text/html": [
       "<div>\n",
       "<style scoped>\n",
       "    .dataframe tbody tr th:only-of-type {\n",
       "        vertical-align: middle;\n",
       "    }\n",
       "\n",
       "    .dataframe tbody tr th {\n",
       "        vertical-align: top;\n",
       "    }\n",
       "\n",
       "    .dataframe thead th {\n",
       "        text-align: right;\n",
       "    }\n",
       "</style>\n",
       "<table border=\"1\" class=\"dataframe\">\n",
       "  <thead>\n",
       "    <tr style=\"text-align: right;\">\n",
       "      <th></th>\n",
       "      <th>Nome</th>\n",
       "      <th>Idade</th>\n",
       "      <th>Gender</th>\n",
       "    </tr>\n",
       "  </thead>\n",
       "  <tbody>\n",
       "    <tr>\n",
       "      <th>0</th>\n",
       "      <td>Alice</td>\n",
       "      <td>28.0</td>\n",
       "      <td>F</td>\n",
       "    </tr>\n",
       "    <tr>\n",
       "      <th>1</th>\n",
       "      <td>Bob</td>\n",
       "      <td>22.0</td>\n",
       "      <td>M</td>\n",
       "    </tr>\n",
       "    <tr>\n",
       "      <th>2</th>\n",
       "      <td>Charlie</td>\n",
       "      <td>31.0</td>\n",
       "      <td>M</td>\n",
       "    </tr>\n",
       "    <tr>\n",
       "      <th>3</th>\n",
       "      <td>David</td>\n",
       "      <td>25.0</td>\n",
       "      <td>M</td>\n",
       "    </tr>\n",
       "    <tr>\n",
       "      <th>4</th>\n",
       "      <td>Ana</td>\n",
       "      <td>40.0</td>\n",
       "      <td>F</td>\n",
       "    </tr>\n",
       "  </tbody>\n",
       "</table>\n",
       "</div>"
      ],
      "text/plain": [
       "      Nome  Idade Gender\n",
       "0    Alice   28.0      F\n",
       "1      Bob   22.0      M\n",
       "2  Charlie   31.0      M\n",
       "3    David   25.0      M\n",
       "4      Ana   40.0      F"
      ]
     },
     "execution_count": 46,
     "metadata": {},
     "output_type": "execute_result"
    }
   ],
   "source": [
    "df_pd.rename(columns = {'Name':'Nome', 'Age':'Idade'})"
   ]
  },
  {
   "cell_type": "code",
   "execution_count": 47,
   "id": "b1269b9f",
   "metadata": {},
   "outputs": [
    {
     "data": {
      "text/html": [
       "<div><style>\n",
       ".dataframe > thead > tr > th,\n",
       ".dataframe > tbody > tr > td {\n",
       "  text-align: right;\n",
       "}\n",
       "</style>\n",
       "<small>shape: (5, 3)</small><table border=\"1\" class=\"dataframe\"><thead><tr><th>Nome</th><th>Idade</th><th>Gender</th></tr><tr><td>str</td><td>i64</td><td>str</td></tr></thead><tbody><tr><td>&quot;Ana&quot;</td><td>40</td><td>&quot;F&quot;</td></tr><tr><td>&quot;Alice&quot;</td><td>28</td><td>&quot;F&quot;</td></tr><tr><td>&quot;Bob&quot;</td><td>22</td><td>&quot;M&quot;</td></tr><tr><td>&quot;Charlie&quot;</td><td>31</td><td>&quot;M&quot;</td></tr><tr><td>&quot;David&quot;</td><td>25</td><td>&quot;M&quot;</td></tr></tbody></table></div>"
      ],
      "text/plain": [
       "shape: (5, 3)\n",
       "┌─────────┬───────┬────────┐\n",
       "│ Nome    ┆ Idade ┆ Gender │\n",
       "│ ---     ┆ ---   ┆ ---    │\n",
       "│ str     ┆ i64   ┆ str    │\n",
       "╞═════════╪═══════╪════════╡\n",
       "│ Ana     ┆ 40    ┆ F      │\n",
       "│ Alice   ┆ 28    ┆ F      │\n",
       "│ Bob     ┆ 22    ┆ M      │\n",
       "│ Charlie ┆ 31    ┆ M      │\n",
       "│ David   ┆ 25    ┆ M      │\n",
       "└─────────┴───────┴────────┘"
      ]
     },
     "execution_count": 47,
     "metadata": {},
     "output_type": "execute_result"
    }
   ],
   "source": [
    "df_pl.rename({'Name':'Nome', 'Age':'Idade'})"
   ]
  },
  {
   "cell_type": "code",
   "execution_count": 48,
   "id": "e7411913",
   "metadata": {},
   "outputs": [
    {
     "name": "stdout",
     "output_type": "stream",
     "text": [
      "+-------+-----+\n",
      "|   Nome|Idade|\n",
      "+-------+-----+\n",
      "|  Alice|   28|\n",
      "|    Ana|   40|\n",
      "|    Bob|   22|\n",
      "|Charlie|   31|\n",
      "|  David|   25|\n",
      "+-------+-----+\n",
      "\n"
     ]
    }
   ],
   "source": [
    "df_ps.selectExpr(\"Name as Nome\", \"Age as Idade\").show()"
   ]
  },
  {
   "cell_type": "markdown",
   "id": "a6c6d815",
   "metadata": {},
   "source": [
    "## 17. Deletando Colunas"
   ]
  },
  {
   "cell_type": "code",
   "execution_count": 49,
   "id": "305259e6",
   "metadata": {},
   "outputs": [
    {
     "data": {
      "text/html": [
       "<div>\n",
       "<style scoped>\n",
       "    .dataframe tbody tr th:only-of-type {\n",
       "        vertical-align: middle;\n",
       "    }\n",
       "\n",
       "    .dataframe tbody tr th {\n",
       "        vertical-align: top;\n",
       "    }\n",
       "\n",
       "    .dataframe thead th {\n",
       "        text-align: right;\n",
       "    }\n",
       "</style>\n",
       "<table border=\"1\" class=\"dataframe\">\n",
       "  <thead>\n",
       "    <tr style=\"text-align: right;\">\n",
       "      <th></th>\n",
       "      <th>Name</th>\n",
       "      <th>Gender</th>\n",
       "    </tr>\n",
       "  </thead>\n",
       "  <tbody>\n",
       "    <tr>\n",
       "      <th>0</th>\n",
       "      <td>Alice</td>\n",
       "      <td>F</td>\n",
       "    </tr>\n",
       "    <tr>\n",
       "      <th>1</th>\n",
       "      <td>Bob</td>\n",
       "      <td>M</td>\n",
       "    </tr>\n",
       "    <tr>\n",
       "      <th>2</th>\n",
       "      <td>Charlie</td>\n",
       "      <td>M</td>\n",
       "    </tr>\n",
       "    <tr>\n",
       "      <th>3</th>\n",
       "      <td>David</td>\n",
       "      <td>M</td>\n",
       "    </tr>\n",
       "    <tr>\n",
       "      <th>4</th>\n",
       "      <td>Ana</td>\n",
       "      <td>F</td>\n",
       "    </tr>\n",
       "  </tbody>\n",
       "</table>\n",
       "</div>"
      ],
      "text/plain": [
       "      Name Gender\n",
       "0    Alice      F\n",
       "1      Bob      M\n",
       "2  Charlie      M\n",
       "3    David      M\n",
       "4      Ana      F"
      ]
     },
     "execution_count": 49,
     "metadata": {},
     "output_type": "execute_result"
    }
   ],
   "source": [
    "df_pd.drop(columns = ['Age'])"
   ]
  },
  {
   "cell_type": "code",
   "execution_count": 50,
   "id": "b57b3ed9",
   "metadata": {},
   "outputs": [
    {
     "data": {
      "text/html": [
       "<div><style>\n",
       ".dataframe > thead > tr > th,\n",
       ".dataframe > tbody > tr > td {\n",
       "  text-align: right;\n",
       "}\n",
       "</style>\n",
       "<small>shape: (5, 2)</small><table border=\"1\" class=\"dataframe\"><thead><tr><th>Name</th><th>Gender</th></tr><tr><td>str</td><td>str</td></tr></thead><tbody><tr><td>&quot;Ana&quot;</td><td>&quot;F&quot;</td></tr><tr><td>&quot;Alice&quot;</td><td>&quot;F&quot;</td></tr><tr><td>&quot;Bob&quot;</td><td>&quot;M&quot;</td></tr><tr><td>&quot;Charlie&quot;</td><td>&quot;M&quot;</td></tr><tr><td>&quot;David&quot;</td><td>&quot;M&quot;</td></tr></tbody></table></div>"
      ],
      "text/plain": [
       "shape: (5, 2)\n",
       "┌─────────┬────────┐\n",
       "│ Name    ┆ Gender │\n",
       "│ ---     ┆ ---    │\n",
       "│ str     ┆ str    │\n",
       "╞═════════╪════════╡\n",
       "│ Ana     ┆ F      │\n",
       "│ Alice   ┆ F      │\n",
       "│ Bob     ┆ M      │\n",
       "│ Charlie ┆ M      │\n",
       "│ David   ┆ M      │\n",
       "└─────────┴────────┘"
      ]
     },
     "execution_count": 50,
     "metadata": {},
     "output_type": "execute_result"
    }
   ],
   "source": [
    "df_pl.drop(['Age'])"
   ]
  },
  {
   "cell_type": "code",
   "execution_count": 51,
   "id": "f421af05",
   "metadata": {},
   "outputs": [
    {
     "name": "stdout",
     "output_type": "stream",
     "text": [
      "+-------+------+\n",
      "|   Name|Gender|\n",
      "+-------+------+\n",
      "|  Alice|     F|\n",
      "|    Ana|     F|\n",
      "|    Bob|     M|\n",
      "|Charlie|     M|\n",
      "|  David|     M|\n",
      "+-------+------+\n",
      "\n"
     ]
    }
   ],
   "source": [
    "df_ps.drop(\"Age\").show()"
   ]
  },
  {
   "cell_type": "markdown",
   "id": "93f7d253",
   "metadata": {},
   "source": [
    "## 19. Convertendo DataFrame PySpark Pandas"
   ]
  },
  {
   "cell_type": "code",
   "execution_count": 52,
   "id": "320577ed",
   "metadata": {},
   "outputs": [
    {
     "data": {
      "text/html": [
       "<div>\n",
       "<style scoped>\n",
       "    .dataframe tbody tr th:only-of-type {\n",
       "        vertical-align: middle;\n",
       "    }\n",
       "\n",
       "    .dataframe tbody tr th {\n",
       "        vertical-align: top;\n",
       "    }\n",
       "\n",
       "    .dataframe thead th {\n",
       "        text-align: right;\n",
       "    }\n",
       "</style>\n",
       "<table border=\"1\" class=\"dataframe\">\n",
       "  <thead>\n",
       "    <tr style=\"text-align: right;\">\n",
       "      <th></th>\n",
       "      <th>Name</th>\n",
       "      <th>Age</th>\n",
       "      <th>Gender</th>\n",
       "    </tr>\n",
       "  </thead>\n",
       "  <tbody>\n",
       "    <tr>\n",
       "      <th>0</th>\n",
       "      <td>Alice</td>\n",
       "      <td>28</td>\n",
       "      <td>F</td>\n",
       "    </tr>\n",
       "    <tr>\n",
       "      <th>1</th>\n",
       "      <td>Ana</td>\n",
       "      <td>40</td>\n",
       "      <td>F</td>\n",
       "    </tr>\n",
       "    <tr>\n",
       "      <th>2</th>\n",
       "      <td>Bob</td>\n",
       "      <td>22</td>\n",
       "      <td>M</td>\n",
       "    </tr>\n",
       "    <tr>\n",
       "      <th>3</th>\n",
       "      <td>Charlie</td>\n",
       "      <td>31</td>\n",
       "      <td>M</td>\n",
       "    </tr>\n",
       "    <tr>\n",
       "      <th>4</th>\n",
       "      <td>David</td>\n",
       "      <td>25</td>\n",
       "      <td>M</td>\n",
       "    </tr>\n",
       "  </tbody>\n",
       "</table>\n",
       "</div>"
      ],
      "text/plain": [
       "      Name  Age Gender\n",
       "0    Alice   28      F\n",
       "1      Ana   40      F\n",
       "2      Bob   22      M\n",
       "3  Charlie   31      M\n",
       "4    David   25      M"
      ]
     },
     "execution_count": 52,
     "metadata": {},
     "output_type": "execute_result"
    }
   ],
   "source": [
    "# converte dataframe para o pandas\n",
    "dfpandas = df_ps.toPandas()\n",
    "dfpandas.head()"
   ]
  },
  {
   "cell_type": "code",
   "execution_count": 53,
   "id": "bd6fd917",
   "metadata": {},
   "outputs": [
    {
     "name": "stdout",
     "output_type": "stream",
     "text": [
      "+-------+---+------+\n",
      "|   Name|Age|Gender|\n",
      "+-------+---+------+\n",
      "|  Alice| 28|     F|\n",
      "|    Ana| 40|     F|\n",
      "|    Bob| 22|     M|\n",
      "|Charlie| 31|     M|\n",
      "|  David| 25|     M|\n",
      "+-------+---+------+\n",
      "\n"
     ]
    }
   ],
   "source": [
    "# converte dataframe pandas para spark novamente\n",
    "dfspark = spark.createDataFrame(dfpandas)\n",
    "dfspark.show()"
   ]
  },
  {
   "cell_type": "markdown",
   "id": "54f756da",
   "metadata": {},
   "source": [
    "## 20. Encerrando a Sessão Spark"
   ]
  },
  {
   "cell_type": "code",
   "execution_count": 54,
   "id": "fcd97569",
   "metadata": {},
   "outputs": [],
   "source": [
    "spark.stop()"
   ]
  }
 ],
 "metadata": {
  "kernelspec": {
   "display_name": "Python 3",
   "language": "python",
   "name": "python3"
  },
  "language_info": {
   "codemirror_mode": {
    "name": "ipython",
    "version": 3
   },
   "file_extension": ".py",
   "mimetype": "text/x-python",
   "name": "python",
   "nbconvert_exporter": "python",
   "pygments_lexer": "ipython3",
   "version": "3.7.9"
  }
 },
 "nbformat": 4,
 "nbformat_minor": 5
}
